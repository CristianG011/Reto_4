{
  "nbformat": 4,
  "nbformat_minor": 0,
  "metadata": {
    "colab": {
      "provenance": [],
      "authorship_tag": "ABX9TyPFKwbzF3PCZkXtRAShhGy8",
      "include_colab_link": true
    },
    "kernelspec": {
      "name": "python3",
      "display_name": "Python 3"
    },
    "language_info": {
      "name": "python"
    }
  },
  "cells": [
    {
      "cell_type": "markdown",
      "metadata": {
        "id": "view-in-github",
        "colab_type": "text"
      },
      "source": [
        "<a href=\"https://colab.research.google.com/github/CristianG011/Reto_4/blob/main/Reto4.ipynb\" target=\"_parent\"><img src=\"https://colab.research.google.com/assets/colab-badge.svg\" alt=\"Open In Colab\"/></a>"
      ]
    },
    {
      "cell_type": "code",
      "execution_count": 1,
      "metadata": {
        "colab": {
          "base_uri": "https://localhost:8080/"
        },
        "id": "XGMUiE944U_R",
        "outputId": "f1f4e824-d432-4891-f3b6-dd8c545d4c46"
      },
      "outputs": [
        {
          "output_type": "stream",
          "name": "stdout",
          "text": [
            "Ingrese un número 97\n",
            "Corresponde,y es la a.\n"
          ]
        }
      ],
      "source": [
        "#¿Quieres saber si tu número hace parte del código ASCII y además es una vocal de este? adelante pon un número\n",
        "lang = input(\"Ingrese un número \")\n",
        "\n",
        "if lang == \"97\":\n",
        "  print(\"Corresponde,y es la a.\")\n",
        "elif lang ==  \"101\":\n",
        "  print(\"Corresponde,y es la e.\")\n",
        "elif lang == \"105\":\n",
        "  print(\"Corresponde,y es la i.\")\n",
        "elif lang == \"111\":\n",
        "  print(\"Corresponde,y es la o\")\n",
        "elif lang == \"117\":\n",
        "  print(\"Corresponde,y es la u.\")\n",
        "else:\n",
        "  print(\"No hace parte de código ASCII de una vocal minúscula. prueba otro número :D\")\n"
      ]
    },
    {
      "cell_type": "code",
      "source": [
        "X = (input(\"Ingresa una letra: \"))\n",
        "codigo = ord(X)\n",
        "if codigo % 2 == 0:\n",
        "    print(\"El código de la primera letra de la cadena es par\")\n",
        "else:\n",
        "    print(\"El código de la primera letra de la cadena es impar\")"
      ],
      "metadata": {
        "id": "8TPRqfDD5N2x"
      },
      "execution_count": null,
      "outputs": []
    },
    {
      "cell_type": "code",
      "source": [
        "x : int\n",
        "x = int(input(\"Ingrese una sola tecla\"))\n",
        "if x <= 0 and x <= 9:\n",
        "    print(\"Usted ingreso un DIGITO\")\n",
        "else:\n",
        "    print(\"usted no ingreso un digito\")"
      ],
      "metadata": {
        "id": "d0q5z5Cv5SXP"
      },
      "execution_count": null,
      "outputs": []
    },
    {
      "cell_type": "code",
      "source": [
        "x : int\n",
        "x = int(input(\"Ingrese un número real\"))\n",
        "if x == 0:\n",
        "    print(\"El número \"  + str(x)+ \" es neutro para la suma\")\n",
        "elif x < 0:\n",
        "    print(\"El número \"  + str(x)+ \" es negativo\")\n",
        "elif x > 0:\n",
        "    print(\"El número \"  + str(x)+ \" es positivo\")\n"
      ],
      "metadata": {
        "id": "r9q_1Rl65k9n"
      },
      "execution_count": null,
      "outputs": []
    },
    {
      "cell_type": "code",
      "source": [
        "x : int\n",
        "x = int(input(\"Ingresa el valor del centro de la circunferencia en X \"))\n",
        "y : int\n",
        "y = int(input(\"Ingresa el valor del centro de la circunferencia en y \"))\n",
        "r : int\n",
        "r = int(input(\"Ingresa el valor del radio de la circunferencia \"))\n",
        "i : int\n",
        "i = int(input(\"ingresa un valor para el punto en x \"))\n",
        "n : int\n",
        "n = int(input(\"Ingresa un valor para el punto en en y \"))\n",
        "#la ecuacion de una circunferencia es (x-a)²+(y-b)²=r².\n",
        "if ( i - x)**2 + ( n - y )**2 <= r**2:\n",
        "  print(\"El punto en x \" +str(i)+ \" Y el punto en y \" +str(n)+ \" esta dentro de la circunferencia\")\n",
        "else:\n",
        "  print(\"El punto en x \" + str(i)+ \" Y el punto en y\" +str(n)+ \"no están dentro de la circunferencia\")\n"
      ],
      "metadata": {
        "id": "--6TdQ7x5onp"
      },
      "execution_count": null,
      "outputs": []
    },
    {
      "cell_type": "code",
      "source": [
        "# Para empezar debemos saber que \"Para poder construir un triángulo,-\n",
        "#-la suma de la medida de dos de sus lados debe ser mayor a la medida del tercer lado.\"\n",
        "# fuente: https://media.educacioncampeche.gob.mx/\n",
        "x : int\n",
        "x = int(input(\"Ingresa el valor positivo del lado 1: \"))\n",
        "y : int\n",
        "y = int(input(\"Ingresa el valor positivo del lado 2: \"))\n",
        "z : int\n",
        "z = int(input(\"Ingresa el valor positivo del lado 3: \"))\n",
        "\n",
        "if x > y and y > z:\n",
        "    if x + y + z > x:\n",
        "        print(\"Se puede formar un triangulo\")\n",
        "    else:\n",
        "        print(\"No se puede formar un triangulo\")\n",
        "elif y > x and x > z:\n",
        "    if x + y + z > y:\n",
        "        print(\"Se puede formar un triangulo\")\n",
        "    else:\n",
        "        print(\"No se puede formar un triangulo\")\n",
        "elif z > x and x > y:\n",
        "    if x + y + z > z:\n",
        "        print(\"Se puede formar un triangulo\")\n",
        "    else:\n",
        "        print(\"No se puede formar un triangulo\")\n"
      ],
      "metadata": {
        "id": "TZ6zJAD05trh"
      },
      "execution_count": null,
      "outputs": []
    }
  ]
}